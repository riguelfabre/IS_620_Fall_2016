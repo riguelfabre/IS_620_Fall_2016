{
 "cells": [
  {
   "cell_type": "code",
   "execution_count": 21,
   "metadata": {
    "collapsed": false
   },
   "outputs": [],
   "source": [
    "import random\n",
    "import nltk\n",
    "from nltk.corpus import movie_reviews"
   ]
  },
  {
   "cell_type": "code",
   "execution_count": 22,
   "metadata": {
    "collapsed": false
   },
   "outputs": [],
   "source": [
    "documents = [(list(movie_reviews.words(fileid)), category)\n",
    "            for category in movie_reviews.categories()\n",
    "            for fileid in movie_reviews.fileids(category)]\n",
    "\n",
    "random.shuffle(documents)"
   ]
  },
  {
   "cell_type": "code",
   "execution_count": 23,
   "metadata": {
    "collapsed": false
   },
   "outputs": [],
   "source": [
    "all_words = nltk.FreqDist(w.lower() for w in movie_reviews.words())\n",
    "word_features = list(all_words)[:2000]\n",
    "\n",
    "def document_features(document):\n",
    "    document_words = set(document)\n",
    "    features = {}\n",
    "    for word in word_features:\n",
    "        features['contains({})'.format(word)] = (word in document_words)\n",
    "    return features    "
   ]
  },
  {
   "cell_type": "code",
   "execution_count": 24,
   "metadata": {
    "collapsed": false
   },
   "outputs": [],
   "source": [
    "featuresets = [(document_features(d), c) for (d,c) in documents]\n",
    "train_set, test_set = featuresets[100:], featuresets[:100]\n",
    "classifier = nltk.NaiveBayesClassifier.train(train_set)"
   ]
  },
  {
   "cell_type": "code",
   "execution_count": 25,
   "metadata": {
    "collapsed": false
   },
   "outputs": [
    {
     "name": "stdout",
     "output_type": "stream",
     "text": [
      "0.66\n"
     ]
    }
   ],
   "source": [
    "print(nltk.classify.accuracy(classifier, test_set))"
   ]
  },
  {
   "cell_type": "code",
   "execution_count": 26,
   "metadata": {
    "collapsed": false
   },
   "outputs": [
    {
     "name": "stdout",
     "output_type": "stream",
     "text": [
      "Most Informative Features\n",
      "          contains(sans) = True              neg : pos    =      9.1 : 1.0\n",
      "    contains(mediocrity) = True              neg : pos    =      7.1 : 1.0\n",
      "         contains(tripe) = True              neg : pos    =      7.1 : 1.0\n",
      "   contains(bruckheimer) = True              neg : pos    =      6.4 : 1.0\n",
      "         contains(wires) = True              neg : pos    =      6.4 : 1.0\n",
      "     contains(dismissed) = True              pos : neg    =      6.3 : 1.0\n",
      "           contains(ugh) = True              neg : pos    =      5.8 : 1.0\n",
      "     contains(uplifting) = True              pos : neg    =      5.8 : 1.0\n",
      "          contains(wits) = True              pos : neg    =      5.6 : 1.0\n",
      "       contains(topping) = True              pos : neg    =      5.6 : 1.0\n",
      "   contains(overwhelmed) = True              pos : neg    =      5.6 : 1.0\n",
      "          contains(lang) = True              pos : neg    =      5.6 : 1.0\n",
      "        contains(doubts) = True              pos : neg    =      5.4 : 1.0\n",
      "  contains(effortlessly) = True              pos : neg    =      5.2 : 1.0\n",
      "      contains(attorney) = True              pos : neg    =      4.7 : 1.0\n",
      "          contains(hugo) = True              pos : neg    =      4.6 : 1.0\n",
      "   contains(understands) = True              pos : neg    =      4.4 : 1.0\n",
      "     contains(testament) = True              pos : neg    =      4.4 : 1.0\n",
      "       contains(quicker) = True              neg : pos    =      4.4 : 1.0\n",
      "         contains(locks) = True              neg : pos    =      4.4 : 1.0\n",
      "      contains(matheson) = True              pos : neg    =      4.3 : 1.0\n",
      "         contains(spins) = True              pos : neg    =      4.3 : 1.0\n",
      "        contains(benson) = True              pos : neg    =      4.3 : 1.0\n",
      "          contains(wang) = True              pos : neg    =      4.3 : 1.0\n",
      "    contains(cronenberg) = True              pos : neg    =      4.2 : 1.0\n",
      "       contains(admired) = True              pos : neg    =      4.1 : 1.0\n",
      "          contains(olds) = True              neg : pos    =      3.8 : 1.0\n",
      "       contains(diverse) = True              pos : neg    =      3.8 : 1.0\n",
      "   contains(interviewed) = True              neg : pos    =      3.7 : 1.0\n",
      "       contains(maxwell) = True              neg : pos    =      3.7 : 1.0\n"
     ]
    }
   ],
   "source": [
    "classifier.show_most_informative_features(30)"
   ]
  },
  {
   "cell_type": "code",
   "execution_count": null,
   "metadata": {
    "collapsed": true
   },
   "outputs": [],
   "source": []
  }
 ],
 "metadata": {
  "kernelspec": {
   "display_name": "Python 2",
   "language": "python",
   "name": "python2"
  },
  "language_info": {
   "codemirror_mode": {
    "name": "ipython",
    "version": 2
   },
   "file_extension": ".py",
   "mimetype": "text/x-python",
   "name": "python",
   "nbconvert_exporter": "python",
   "pygments_lexer": "ipython2",
   "version": "2.7.11"
  }
 },
 "nbformat": 4,
 "nbformat_minor": 0
}
