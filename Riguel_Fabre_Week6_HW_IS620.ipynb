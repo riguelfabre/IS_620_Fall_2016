{
 "cells": [
  {
   "cell_type": "code",
   "execution_count": 1,
   "metadata": {
    "collapsed": false
   },
   "outputs": [
    {
     "data": {
      "text/plain": [
       "'\\nDavis Southern Club Women\\n\\nShows how to make unipartite projections of the graph and compute the\\nproperties of those graphs.\\n\\nThese data were collected by Davis et al. in the 1930s.\\nThey represent observed attendance at 14 social events by 18 Southern women.\\nThe graph is bipartite (clubs, women).\\n'"
      ]
     },
     "execution_count": 1,
     "metadata": {},
     "output_type": "execute_result"
    }
   ],
   "source": [
    "#!/usr/bin/env python\n",
    "\"\"\"\n",
    "Davis Southern Club Women\n",
    "\n",
    "Shows how to make unipartite projections of the graph and compute the\n",
    "properties of those graphs.\n",
    "\n",
    "These data were collected by Davis et al. in the 1930s.\n",
    "They represent observed attendance at 14 social events by 18 Southern women.\n",
    "The graph is bipartite (clubs, women).\n",
    "\"\"\"\n"
   ]
  },
  {
   "cell_type": "code",
   "execution_count": 8,
   "metadata": {
    "collapsed": true
   },
   "outputs": [],
   "source": [
    "import networkx as nx\n",
    "import networkx.algorithms.bipartite as bipartite\n",
    "from networkx import *"
   ]
  },
  {
   "cell_type": "code",
   "execution_count": 3,
   "metadata": {
    "collapsed": true
   },
   "outputs": [],
   "source": [
    "G = nx.davis_southern_women_graph()\n",
    "women = G.graph['top']\n",
    "clubs = G.graph['bottom']"
   ]
  },
  {
   "cell_type": "code",
   "execution_count": 4,
   "metadata": {
    "collapsed": false
   },
   "outputs": [
    {
     "name": "stdout",
     "output_type": "stream",
     "text": [
      "Biadjacency matrix\n",
      "  (0, 0)\t1\n",
      "  (0, 1)\t1\n",
      "  (0, 2)\t1\n",
      "  (0, 3)\t1\n",
      "  (0, 4)\t1\n",
      "  (0, 5)\t1\n",
      "  (0, 7)\t1\n",
      "  (0, 8)\t1\n",
      "  (1, 0)\t1\n",
      "  (1, 1)\t1\n",
      "  (1, 2)\t1\n",
      "  (1, 4)\t1\n",
      "  (1, 5)\t1\n",
      "  (1, 6)\t1\n",
      "  (1, 7)\t1\n",
      "  (2, 1)\t1\n",
      "  (2, 2)\t1\n",
      "  (2, 3)\t1\n",
      "  (2, 4)\t1\n",
      "  (2, 5)\t1\n",
      "  (2, 6)\t1\n",
      "  (2, 7)\t1\n",
      "  (2, 8)\t1\n",
      "  (3, 0)\t1\n",
      "  (3, 2)\t1\n",
      "  :\t:\n",
      "  (12, 7)\t1\n",
      "  (12, 8)\t1\n",
      "  (12, 9)\t1\n",
      "  (12, 11)\t1\n",
      "  (12, 12)\t1\n",
      "  (12, 13)\t1\n",
      "  (13, 5)\t1\n",
      "  (13, 6)\t1\n",
      "  (13, 8)\t1\n",
      "  (13, 9)\t1\n",
      "  (13, 10)\t1\n",
      "  (13, 11)\t1\n",
      "  (13, 12)\t1\n",
      "  (13, 13)\t1\n",
      "  (14, 6)\t1\n",
      "  (14, 7)\t1\n",
      "  (14, 9)\t1\n",
      "  (14, 10)\t1\n",
      "  (14, 11)\t1\n",
      "  (15, 7)\t1\n",
      "  (15, 8)\t1\n",
      "  (16, 8)\t1\n",
      "  (16, 10)\t1\n",
      "  (17, 8)\t1\n",
      "  (17, 10)\t1\n"
     ]
    }
   ],
   "source": [
    "print(\"Biadjacency matrix\")\n",
    "print(bipartite.biadjacency_matrix(G,women,clubs))"
   ]
  },
  {
   "cell_type": "code",
   "execution_count": 5,
   "metadata": {
    "collapsed": false
   },
   "outputs": [
    {
     "name": "stdout",
     "output_type": "stream",
     "text": [
      "\n",
      "#Friends, Member\n",
      "17 Evelyn Jefferson\n",
      "15 Laura Mandeville\n",
      "17 Theresa Anderson\n",
      "15 Brenda Rogers\n",
      "11 Charlotte McDowd\n",
      "15 Frances Anderson\n",
      "15 Eleanor Nye\n",
      "16 Pearl Oglethorpe\n",
      "17 Ruth DeSand\n",
      "17 Verne Sanderson\n",
      "16 Myra Liddel\n",
      "16 Katherina Rogers\n",
      "17 Sylvia Avondale\n",
      "17 Nora Fayette\n",
      "17 Helen Lloyd\n",
      "16 Dorothy Murchison\n",
      "12 Olivia Carleton\n",
      "12 Flora Price\n"
     ]
    }
   ],
   "source": [
    "# project bipartite graph onto women nodes\n",
    "W = bipartite.projected_graph(G, women)\n",
    "print('')\n",
    "print(\"#Friends, Member\")\n",
    "for w in women:\n",
    "    print('%d %s' % (W.degree(w),w))\n",
    "\n"
   ]
  },
  {
   "cell_type": "code",
   "execution_count": 6,
   "metadata": {
    "collapsed": false
   },
   "outputs": [
    {
     "name": "stdout",
     "output_type": "stream",
     "text": [
      "\n",
      "#Friend meetings, Member\n",
      "50 Evelyn Jefferson\n",
      "45 Laura Mandeville\n",
      "57 Theresa Anderson\n",
      "46 Brenda Rogers\n",
      "24 Charlotte McDowd\n",
      "32 Frances Anderson\n",
      "36 Eleanor Nye\n",
      "31 Pearl Oglethorpe\n",
      "40 Ruth DeSand\n",
      "38 Verne Sanderson\n",
      "33 Myra Liddel\n",
      "37 Katherina Rogers\n",
      "46 Sylvia Avondale\n",
      "43 Nora Fayette\n",
      "34 Helen Lloyd\n",
      "24 Dorothy Murchison\n",
      "14 Olivia Carleton\n",
      "14 Flora Price\n"
     ]
    }
   ],
   "source": [
    "# project bipartite graph onto women nodes keeping number of co-occurence\n",
    "# the degree computed is weighted and counts the total number of shared contacts\n",
    "W = bipartite.weighted_projected_graph(G, women)\n",
    "print('')\n",
    "print(\"#Friend meetings, Member\")\n",
    "for w in women:\n",
    "    print('%d %s' % (W.degree(w,weight='weight'),w))"
   ]
  },
  {
   "cell_type": "code",
   "execution_count": 16,
   "metadata": {
    "collapsed": false
   },
   "outputs": [
    {
     "data": {
      "text/plain": [
       "'\\nIt was introduced as a measure for quantifying the control of a human on the communication between \\nother humans in a social network \\n'"
      ]
     },
     "execution_count": 16,
     "metadata": {},
     "output_type": "execute_result"
    }
   ],
   "source": [
    "\"\"\"\n",
    " Betweenness centrality shows the measure for quantifying the control of a human on the communication \n",
    " between other humans in a social network. In this case the measure refers to in my opinion how social \n",
    " these women were at these events. Evelyn Jefferson, Nora Fayette and Theresa Anderson are most social\n",
    " and may be the ones to be the moderator or the conversation starters.\n",
    "\"\"\""
   ]
  },
  {
   "cell_type": "code",
   "execution_count": 12,
   "metadata": {
    "collapsed": false
   },
   "outputs": [
    {
     "name": "stdout",
     "output_type": "stream",
     "text": [
      "Betweenness\n",
      "Flora Price 0.005\n",
      "Nora Fayette 0.109\n",
      "E10 0.011\n",
      "Verne Sanderson 0.015\n",
      "E12 0.018\n",
      "E14 0.002\n",
      "Frances Anderson 0.010\n",
      "Dorothy Murchison 0.002\n",
      "Evelyn Jefferson 0.092\n",
      "Ruth DeSand 0.016\n",
      "Helen Lloyd 0.041\n",
      "Olivia Carleton 0.005\n",
      "Eleanor Nye 0.009\n",
      "E11 0.019\n",
      "E9 0.219\n",
      "E8 0.237\n",
      "E5 0.037\n",
      "E4 0.007\n",
      "E7 0.126\n",
      "E6 0.063\n",
      "E1 0.002\n",
      "Myra Liddel 0.016\n",
      "E3 0.018\n",
      "E2 0.002\n",
      "Theresa Anderson 0.084\n",
      "Pearl Oglethorpe 0.007\n",
      "Katherina Rogers 0.045\n",
      "Brenda Rogers 0.047\n",
      "E13 0.002\n",
      "Charlotte McDowd 0.010\n",
      "Sylvia Avondale 0.069\n",
      "Laura Mandeville 0.049\n"
     ]
    }
   ],
   "source": [
    "print(\"Betweenness\")\n",
    "b=betweenness_centrality(G)\n",
    "for v in G.nodes():\n",
    "    print(\"%s %5.3f\"%(v,b[v]))"
   ]
  },
  {
   "cell_type": "code",
   "execution_count": 17,
   "metadata": {
    "collapsed": false
   },
   "outputs": [
    {
     "data": {
      "text/plain": [
       "'\\nIt is evident that the top three woman who are mostly popular at these events are Evelyn Jefferson, \\nNora Fayette and Theresa Anderson. All three women share some of the highest # of friends but they \\nare the only three to have the highest degrees of centrality. This indicates the number of ties \\nthat their respective node has.  \\n'"
      ]
     },
     "execution_count": 17,
     "metadata": {},
     "output_type": "execute_result"
    }
   ],
   "source": [
    "\"\"\"\n",
    "It is evident that the top three woman who are mostly popular at these events are Evelyn Jefferson, \n",
    "Nora Fayette and Theresa Anderson. All three women share some of the highest # of friends but they \n",
    "are the only three to have the highest degrees of centrality. This indicates the number of ties \n",
    "that their respective node has.  \n",
    "\"\"\""
   ]
  },
  {
   "cell_type": "code",
   "execution_count": 14,
   "metadata": {
    "collapsed": false
   },
   "outputs": [
    {
     "name": "stdout",
     "output_type": "stream",
     "text": [
      "Degree centrality\n",
      "Flora Price 0.065\n",
      "Nora Fayette 0.258\n",
      "E10 0.161\n",
      "Verne Sanderson 0.129\n",
      "E12 0.194\n",
      "E14 0.097\n",
      "Frances Anderson 0.129\n",
      "Dorothy Murchison 0.065\n",
      "Evelyn Jefferson 0.258\n",
      "Ruth DeSand 0.129\n",
      "Helen Lloyd 0.161\n",
      "Olivia Carleton 0.065\n",
      "Eleanor Nye 0.129\n",
      "E11 0.129\n",
      "E9 0.387\n",
      "E8 0.452\n",
      "E5 0.258\n",
      "E4 0.129\n",
      "E7 0.323\n",
      "E6 0.258\n",
      "E1 0.097\n",
      "Myra Liddel 0.129\n",
      "E3 0.194\n",
      "E2 0.097\n",
      "Theresa Anderson 0.258\n",
      "Pearl Oglethorpe 0.097\n",
      "Katherina Rogers 0.194\n",
      "Brenda Rogers 0.226\n",
      "E13 0.097\n",
      "Charlotte McDowd 0.129\n",
      "Sylvia Avondale 0.226\n",
      "Laura Mandeville 0.226\n"
     ]
    }
   ],
   "source": [
    "print(\"Degree centrality\")\n",
    "d=degree_centrality(G)\n",
    "for v in G.nodes():\n",
    "    print(\"%s %5.3f\"%(v,d[v]))"
   ]
  },
  {
   "cell_type": "code",
   "execution_count": null,
   "metadata": {
    "collapsed": true
   },
   "outputs": [],
   "source": [
    "\"\"\"\n",
    "Again, it is plain to see that the same three women share the highest Closeness centrality value because their nodes\n",
    "are more central in the graph, therefore the closer it is to all other nodes. This clearly shows that these woman \n",
    "are very instrumental within this network and have more connections in this network. \n",
    "\"\"\""
   ]
  },
  {
   "cell_type": "code",
   "execution_count": 15,
   "metadata": {
    "collapsed": false
   },
   "outputs": [
    {
     "name": "stdout",
     "output_type": "stream",
     "text": [
      "Closeness centrality\n",
      "Flora Price 0.378\n",
      "Nora Fayette 0.517\n",
      "E10 0.388\n",
      "Verne Sanderson 0.456\n",
      "E12 0.397\n",
      "E14 0.369\n",
      "Frances Anderson 0.431\n",
      "Dorothy Murchison 0.419\n",
      "Evelyn Jefferson 0.517\n",
      "Ruth DeSand 0.456\n",
      "Helen Lloyd 0.470\n",
      "Olivia Carleton 0.378\n",
      "Eleanor Nye 0.431\n",
      "E11 0.378\n",
      "E9 0.554\n",
      "E8 0.596\n",
      "E5 0.419\n",
      "E4 0.378\n",
      "E7 0.517\n",
      "E6 0.484\n",
      "E1 0.369\n",
      "Myra Liddel 0.443\n",
      "E3 0.397\n",
      "E2 0.369\n",
      "Theresa Anderson 0.517\n",
      "Pearl Oglethorpe 0.431\n",
      "Katherina Rogers 0.470\n",
      "Brenda Rogers 0.470\n",
      "E13 0.369\n",
      "Charlotte McDowd 0.388\n",
      "Sylvia Avondale 0.500\n",
      "Laura Mandeville 0.470\n"
     ]
    }
   ],
   "source": [
    "print(\"Closeness centrality\")\n",
    "c=closeness_centrality(G)\n",
    "for v in G.nodes():\n",
    "    print(\"%s %5.3f\"%(v,c[v]))"
   ]
  },
  {
   "cell_type": "code",
   "execution_count": null,
   "metadata": {
    "collapsed": true
   },
   "outputs": [],
   "source": []
  }
 ],
 "metadata": {
  "kernelspec": {
   "display_name": "Python [gl-env]",
   "language": "python",
   "name": "Python [gl-env]"
  },
  "language_info": {
   "codemirror_mode": {
    "name": "ipython",
    "version": 2
   },
   "file_extension": ".py",
   "mimetype": "text/x-python",
   "name": "python",
   "nbconvert_exporter": "python",
   "pygments_lexer": "ipython2",
   "version": "2.7.11"
  }
 },
 "nbformat": 4,
 "nbformat_minor": 0
}
